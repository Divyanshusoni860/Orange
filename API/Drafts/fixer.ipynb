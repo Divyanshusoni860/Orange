{
 "cells": [
  {
   "cell_type": "code",
   "execution_count": null,
   "id": "3ab60e2c",
   "metadata": {},
   "outputs": [],
   "source": [
    "import json\n",
    "import os\n",
    "import shutil\n",
    "from pathlib import Path\n",
    "from pyspark.sql import SparkSession\n",
    "from pyspark.sql.types import StructType, StructField, StringType, DoubleType\n",
    "\n",
    "# === Step 1: Load JSON ===\n",
    "with open(\"mock_fixer_response.json\", \"r\") as f:\n",
    "    data = json.load(f)\n",
    "\n",
    "rates = [(k, float(v), data[\"base\"], data[\"date\"]) for k, v in data[\"rates\"].items()]\n",
    "\n",
    "# === Step 2: Schema and Spark ===\n",
    "schema = StructType([\n",
    "    StructField(\"currency\", StringType(), True),\n",
    "    StructField(\"rate\", DoubleType(), True),\n",
    "    StructField(\"base\", StringType(), True),\n",
    "    StructField(\"date\", StringType(), True)\n",
    "])\n",
    "\n",
    "spark = SparkSession.builder \\\n",
    "    .appName(\"FixerMockLoad\") \\\n",
    "    .master(\"local[*]\") \\\n",
    "    .getOrCreate()\n",
    "\n",
    "df = spark.createDataFrame(rates, schema=schema)\n",
    "df.show()\n",
    "\n",
    "# === Step 3: Save with pandas ===\n",
    "pandas_df = df.toPandas()\n",
    "output_file = Path(\"C:/temp/fixer_spark_output/fixer_rates.csv\")\n",
    "output_file.parent.mkdir(parents=True, exist_ok=True)\n",
    "pandas_df.to_csv(output_file, index=False)\n",
    "\n",
    "print(f\"✅ Successfully saved using pandas to {output_file}\")\n",
    "\n",
    "spark.stop()\n"
   ]
  },
  {
   "cell_type": "markdown",
   "id": "9fa3e30d",
   "metadata": {},
   "source": [
    "trash code by sheet p T"
   ]
  }
 ],
 "metadata": {
  "language_info": {
   "name": "python"
  }
 },
 "nbformat": 4,
 "nbformat_minor": 5
}
