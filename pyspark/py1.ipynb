{
 "cells": [
  {
   "cell_type": "markdown",
   "id": "50148ea0",
   "metadata": {},
   "source": [
    "## Importing Libraries"
   ]
  },
  {
   "cell_type": "code",
   "execution_count": 1,
   "id": "55a18cc9",
   "metadata": {},
   "outputs": [],
   "source": [
    "import pyspark\n",
    "import pandas as pd"
   ]
  },
  {
   "cell_type": "markdown",
   "id": "b00d95d7",
   "metadata": {},
   "source": [
    "Reading with pandas"
   ]
  },
  {
   "cell_type": "code",
   "execution_count": 16,
   "id": "0a35bce6",
   "metadata": {},
   "outputs": [
    {
     "name": "stdout",
     "output_type": "stream",
     "text": [
      "                  Name  Age\n",
      "0      Priyanshu Joshi   45\n",
      "1          Ayush Nagar   30\n",
      "2   Harsh Kumar Shakya   28\n",
      "3      Krishna Agrawal   32\n",
      "4  Asmit Singh Mandoor   42\n"
     ]
    }
   ],
   "source": [
    "import pandas as pd\n",
    "\n",
    "# Use raw string to prevent backslash issues\n",
    "df = pd.read_csv('../data/test1.csv')\n",
    "\n",
    "# Display first few rows to confirm it worked\n",
    "print(df.head())"
   ]
  },
  {
   "cell_type": "markdown",
   "id": "0e2094f9",
   "metadata": {},
   "source": [
    "Importing PySpark Session"
   ]
  },
  {
   "cell_type": "code",
   "execution_count": 17,
   "id": "a5aff5c3",
   "metadata": {},
   "outputs": [],
   "source": [
    "from pyspark.sql import SparkSession"
   ]
  },
  {
   "cell_type": "markdown",
   "id": "5833cddb",
   "metadata": {},
   "source": [
    "Creating a pyspark session"
   ]
  },
  {
   "cell_type": "code",
   "execution_count": 21,
   "id": "5c591659",
   "metadata": {},
   "outputs": [],
   "source": [
    "spark = SparkSession.builder.appName(\"temp\").getOrCreate()"
   ]
  },
  {
   "cell_type": "markdown",
   "id": "6fb545e0",
   "metadata": {},
   "source": [
    "Viewing a Pyspark session"
   ]
  },
  {
   "cell_type": "code",
   "execution_count": 32,
   "id": "6880cb81",
   "metadata": {},
   "outputs": [
    {
     "data": {
      "text/html": [
       "\n",
       "            <div>\n",
       "                <p><b>SparkSession - in-memory</b></p>\n",
       "                \n",
       "        <div>\n",
       "            <p><b>SparkContext</b></p>\n",
       "\n",
       "            <p><a href=\"http://BlackPanther:4040\">Spark UI</a></p>\n",
       "\n",
       "            <dl>\n",
       "              <dt>Version</dt>\n",
       "                <dd><code>v4.0.0</code></dd>\n",
       "              <dt>Master</dt>\n",
       "                <dd><code>local[*]</code></dd>\n",
       "              <dt>AppName</dt>\n",
       "                <dd><code>temp</code></dd>\n",
       "            </dl>\n",
       "        </div>\n",
       "        \n",
       "            </div>\n",
       "        "
      ],
      "text/plain": [
       "<pyspark.sql.session.SparkSession at 0x2b39ee34040>"
      ]
     },
     "execution_count": 32,
     "metadata": {},
     "output_type": "execute_result"
    }
   ],
   "source": [
    "spark"
   ]
  },
  {
   "cell_type": "markdown",
   "id": "57b189a9",
   "metadata": {},
   "source": [
    "Importing data with pysaprk session"
   ]
  },
  {
   "cell_type": "code",
   "execution_count": 26,
   "id": "af831da9",
   "metadata": {},
   "outputs": [
    {
     "data": {
      "text/plain": [
       "DataFrame[_c0: string, _c1: string]"
      ]
     },
     "execution_count": 26,
     "metadata": {},
     "output_type": "execute_result"
    }
   ],
   "source": [
    "df_pyspark = spark.read.csv(\"../data/test1.csv\")\n",
    "df_pyspark"
   ]
  },
  {
   "cell_type": "code",
   "execution_count": 27,
   "id": "99226325",
   "metadata": {},
   "outputs": [
    {
     "name": "stdout",
     "output_type": "stream",
     "text": [
      "+-------------------+---+\n",
      "|                _c0|_c1|\n",
      "+-------------------+---+\n",
      "|               Name|Age|\n",
      "|    Priyanshu Joshi| 45|\n",
      "|        Ayush Nagar| 30|\n",
      "| Harsh Kumar Shakya| 28|\n",
      "|    Krishna Agrawal| 32|\n",
      "|Asmit Singh Mandoor| 42|\n",
      "+-------------------+---+\n",
      "\n"
     ]
    }
   ],
   "source": [
    "df_pyspark.show()"
   ]
  },
  {
   "cell_type": "markdown",
   "id": "9f61c769",
   "metadata": {},
   "source": [
    "Hmm, Let's fix this Indexing"
   ]
  },
  {
   "cell_type": "code",
   "execution_count": 41,
   "id": "b99fcd68",
   "metadata": {},
   "outputs": [
    {
     "name": "stdout",
     "output_type": "stream",
     "text": [
      "+-------------------+---+\n",
      "|               Name|Age|\n",
      "+-------------------+---+\n",
      "|    Priyanshu Joshi| 45|\n",
      "|        Ayush Nagar| 30|\n",
      "| Harsh Kumar Shakya| 28|\n",
      "|    Krishna Agrawal| 32|\n",
      "|Asmit Singh Mandoor| 42|\n",
      "+-------------------+---+\n",
      "\n"
     ]
    }
   ],
   "source": [
    "df_pyspark = spark.read.option(\"header\", \"true\").csv(\"../data/test1.csv\")\n",
    "df_pyspark.show()"
   ]
  },
  {
   "cell_type": "markdown",
   "id": "5c0e2e75",
   "metadata": {},
   "source": [
    "Comparing the data types of pandas and pyspark"
   ]
  },
  {
   "cell_type": "code",
   "execution_count": 46,
   "id": "acbbea4f",
   "metadata": {},
   "outputs": [
    {
     "name": "stdout",
     "output_type": "stream",
     "text": [
      "The data type of pandas is:  <class 'pandas.core.frame.DataFrame'>\n",
      "The data type of type Pyspark is:  <class 'pyspark.sql.classic.dataframe.DataFrame'>\n"
     ]
    }
   ],
   "source": [
    "print(\"The data type of pandas is: \",type(df))\n",
    "print(\"The data type of type Pyspark is: \",type(df_pyspark))"
   ]
  },
  {
   "cell_type": "code",
   "execution_count": 47,
   "id": "799678b9",
   "metadata": {},
   "outputs": [
    {
     "name": "stdout",
     "output_type": "stream",
     "text": [
      "root\n",
      " |-- Name: string (nullable = true)\n",
      " |-- Age: string (nullable = true)\n",
      "\n"
     ]
    }
   ],
   "source": [
    "df_pyspark.printSchema()"
   ]
  },
  {
   "cell_type": "code",
   "execution_count": 48,
   "id": "aa4069b9",
   "metadata": {},
   "outputs": [],
   "source": [
    "spark.stop()"
   ]
  }
 ],
 "metadata": {
  "kernelspec": {
   "display_name": "tf-env",
   "language": "python",
   "name": "python3"
  },
  "language_info": {
   "codemirror_mode": {
    "name": "ipython",
    "version": 3
   },
   "file_extension": ".py",
   "mimetype": "text/x-python",
   "name": "python",
   "nbconvert_exporter": "python",
   "pygments_lexer": "ipython3",
   "version": "3.10.16"
  }
 },
 "nbformat": 4,
 "nbformat_minor": 5
}
