{
 "cells": [
  {
   "cell_type": "code",
   "execution_count": 2,
   "id": "6380ffdc",
   "metadata": {},
   "outputs": [],
   "source": [
    "import pyspark"
   ]
  },
  {
   "cell_type": "code",
   "execution_count": 3,
   "id": "dc22922b",
   "metadata": {},
   "outputs": [],
   "source": [
    "from pyspark.sql import SparkSession\n",
    "spark = SparkSession.builder.appName(\"Missing\").getOrCreate()"
   ]
  },
  {
   "cell_type": "code",
   "execution_count": 4,
   "id": "3f4d84fe",
   "metadata": {},
   "outputs": [
    {
     "data": {
      "text/html": [
       "\n",
       "            <div>\n",
       "                <p><b>SparkSession - in-memory</b></p>\n",
       "                \n",
       "        <div>\n",
       "            <p><b>SparkContext</b></p>\n",
       "\n",
       "            <p><a href=\"http://BlackPanther:4040\">Spark UI</a></p>\n",
       "\n",
       "            <dl>\n",
       "              <dt>Version</dt>\n",
       "                <dd><code>v4.0.0</code></dd>\n",
       "              <dt>Master</dt>\n",
       "                <dd><code>local[*]</code></dd>\n",
       "              <dt>AppName</dt>\n",
       "                <dd><code>Missing</code></dd>\n",
       "            </dl>\n",
       "        </div>\n",
       "        \n",
       "            </div>\n",
       "        "
      ],
      "text/plain": [
       "<pyspark.sql.session.SparkSession at 0x1ad24e55660>"
      ]
     },
     "execution_count": 4,
     "metadata": {},
     "output_type": "execute_result"
    }
   ],
   "source": [
    "spark"
   ]
  },
  {
   "cell_type": "code",
   "execution_count": 49,
   "id": "8183459d",
   "metadata": {},
   "outputs": [
    {
     "name": "stdout",
     "output_type": "stream",
     "text": [
      "+-------+----+----------+------+\n",
      "|   Name| Age|Experience|Salary|\n",
      "+-------+----+----------+------+\n",
      "|  Alice|  25|         2| 40000|\n",
      "|    Bob|  30|         5| 50000|\n",
      "|Charlie|  28|         4|  NULL|\n",
      "|  David|NULL|         3| 45000|\n",
      "|    Eva|  35|      NULL| 60000|\n",
      "|  Frank|  29|         6| 55000|\n",
      "|  Grace|NULL|      NULL| 42000|\n",
      "|   Hank|  40|        10| 80000|\n",
      "|    Ivy|  22|         1|  NULL|\n",
      "|   Jack|  33|         8| 75000|\n",
      "|  Karen|  27|      NULL|  NULL|\n",
      "|    Leo|  31|         7| 67000|\n",
      "|   Mona|  26|         3| 48000|\n",
      "|   Nina|  24|         2| 41000|\n",
      "|  Oscar|NULL|         4| 52000|\n",
      "|   Paul|  38|         9| 79000|\n",
      "|  Quinn|  21|      NULL| 39000|\n",
      "|   Rose|  23|         1| 42000|\n",
      "|  Steve|  36|        11|  NULL|\n",
      "|   Tina|NULL|      NULL|  NULL|\n",
      "+-------+----+----------+------+\n",
      "\n"
     ]
    }
   ],
   "source": [
    "df=spark.read.csv(\"../data/test2.csv\",header=True,inferSchema=True)\n",
    "df.show()"
   ]
  },
  {
   "cell_type": "code",
   "execution_count": 50,
   "id": "c94d6ddd",
   "metadata": {},
   "outputs": [
    {
     "name": "stdout",
     "output_type": "stream",
     "text": [
      "+-------+----+----------+\n",
      "|   Name| Age|Experience|\n",
      "+-------+----+----------+\n",
      "|  Alice|  25|         2|\n",
      "|    Bob|  30|         5|\n",
      "|Charlie|  28|         4|\n",
      "|  David|NULL|         3|\n",
      "|    Eva|  35|      NULL|\n",
      "|  Frank|  29|         6|\n",
      "|  Grace|NULL|      NULL|\n",
      "|   Hank|  40|        10|\n",
      "|    Ivy|  22|         1|\n",
      "|   Jack|  33|         8|\n",
      "|  Karen|  27|      NULL|\n",
      "|    Leo|  31|         7|\n",
      "|   Mona|  26|         3|\n",
      "|   Nina|  24|         2|\n",
      "|  Oscar|NULL|         4|\n",
      "|   Paul|  38|         9|\n",
      "|  Quinn|  21|      NULL|\n",
      "|   Rose|  23|         1|\n",
      "|  Steve|  36|        11|\n",
      "|   Tina|NULL|      NULL|\n",
      "+-------+----+----------+\n",
      "\n"
     ]
    }
   ],
   "source": [
    "df.drop(\"salary\").show()"
   ]
  },
  {
   "cell_type": "code",
   "execution_count": 51,
   "id": "90f542b0",
   "metadata": {},
   "outputs": [
    {
     "name": "stdout",
     "output_type": "stream",
     "text": [
      "+-------+----+----------+------+\n",
      "|   Name| Age|Experience|Salary|\n",
      "+-------+----+----------+------+\n",
      "|  Alice|  25|         2| 40000|\n",
      "|    Bob|  30|         5| 50000|\n",
      "|Charlie|  28|         4|  NULL|\n",
      "|  David|NULL|         3| 45000|\n",
      "|    Eva|  35|      NULL| 60000|\n",
      "|  Frank|  29|         6| 55000|\n",
      "|  Grace|NULL|      NULL| 42000|\n",
      "|   Hank|  40|        10| 80000|\n",
      "|    Ivy|  22|         1|  NULL|\n",
      "|   Jack|  33|         8| 75000|\n",
      "|  Karen|  27|      NULL|  NULL|\n",
      "|    Leo|  31|         7| 67000|\n",
      "|   Mona|  26|         3| 48000|\n",
      "|   Nina|  24|         2| 41000|\n",
      "|  Oscar|NULL|         4| 52000|\n",
      "|   Paul|  38|         9| 79000|\n",
      "|  Quinn|  21|      NULL| 39000|\n",
      "|   Rose|  23|         1| 42000|\n",
      "|  Steve|  36|        11|  NULL|\n",
      "|   Tina|NULL|      NULL|  NULL|\n",
      "+-------+----+----------+------+\n",
      "\n"
     ]
    }
   ],
   "source": [
    "df.show()"
   ]
  },
  {
   "cell_type": "code",
   "execution_count": 52,
   "id": "2ed58fde",
   "metadata": {},
   "outputs": [
    {
     "name": "stdout",
     "output_type": "stream",
     "text": [
      "root\n",
      " |-- Name: string (nullable = true)\n",
      " |-- Age: integer (nullable = true)\n",
      " |-- Experience: integer (nullable = true)\n",
      " |-- Salary: integer (nullable = true)\n",
      "\n"
     ]
    }
   ],
   "source": [
    "df.printSchema()"
   ]
  },
  {
   "cell_type": "code",
   "execution_count": 53,
   "id": "a3a7efbd",
   "metadata": {},
   "outputs": [
    {
     "name": "stdout",
     "output_type": "stream",
     "text": [
      "+-----+---+----------+------+\n",
      "| Name|Age|Experience|Salary|\n",
      "+-----+---+----------+------+\n",
      "|Alice| 25|         2| 40000|\n",
      "|  Bob| 30|         5| 50000|\n",
      "|Frank| 29|         6| 55000|\n",
      "| Hank| 40|        10| 80000|\n",
      "| Jack| 33|         8| 75000|\n",
      "|  Leo| 31|         7| 67000|\n",
      "| Mona| 26|         3| 48000|\n",
      "| Nina| 24|         2| 41000|\n",
      "| Paul| 38|         9| 79000|\n",
      "| Rose| 23|         1| 42000|\n",
      "+-----+---+----------+------+\n",
      "\n"
     ]
    }
   ],
   "source": [
    "df.na.drop().show()"
   ]
  },
  {
   "cell_type": "markdown",
   "id": "e9b94b8e",
   "metadata": {},
   "source": [
    "In \"na\" function, how parameter can be \"all\" or \"any\""
   ]
  },
  {
   "cell_type": "code",
   "execution_count": 54,
   "id": "bf10b480",
   "metadata": {},
   "outputs": [
    {
     "name": "stdout",
     "output_type": "stream",
     "text": [
      "+-------+----+----------+------+\n",
      "|   Name| Age|Experience|Salary|\n",
      "+-------+----+----------+------+\n",
      "|  Alice|  25|         2| 40000|\n",
      "|    Bob|  30|         5| 50000|\n",
      "|Charlie|  28|         4|  NULL|\n",
      "|  David|NULL|         3| 45000|\n",
      "|    Eva|  35|      NULL| 60000|\n",
      "|  Frank|  29|         6| 55000|\n",
      "|  Grace|NULL|      NULL| 42000|\n",
      "|   Hank|  40|        10| 80000|\n",
      "|    Ivy|  22|         1|  NULL|\n",
      "|   Jack|  33|         8| 75000|\n",
      "|  Karen|  27|      NULL|  NULL|\n",
      "|    Leo|  31|         7| 67000|\n",
      "|   Mona|  26|         3| 48000|\n",
      "|   Nina|  24|         2| 41000|\n",
      "|  Oscar|NULL|         4| 52000|\n",
      "|   Paul|  38|         9| 79000|\n",
      "|  Quinn|  21|      NULL| 39000|\n",
      "|   Rose|  23|         1| 42000|\n",
      "|  Steve|  36|        11|  NULL|\n",
      "|   Tina|NULL|      NULL|  NULL|\n",
      "+-------+----+----------+------+\n",
      "\n",
      "The count after how is set to all is 20 is because it drop row olny if all columns are null.\n",
      "The count after how is set to any is 10 is because it drop if there is even 1 null value in row.\n"
     ]
    }
   ],
   "source": [
    "df.na.drop(how=\"all\").show()\n",
    "print(\"The count after how is set to all is\",df.na.drop(how=\"all\").count(),\"is because it drop row olny if all columns are null.\")\n",
    "print(\"The count after how is set to any is\",df.na.drop(how=\"any\").count(),\"is because it drop if there is even 1 null value in row.\")"
   ]
  },
  {
   "cell_type": "markdown",
   "id": "ad960319",
   "metadata": {},
   "source": [
    "**Tweaking with Threshold value** <br>\n",
    "(after applying thresh parameter, the \"how is ignored\")"
   ]
  },
  {
   "cell_type": "code",
   "execution_count": 55,
   "id": "4d9b73ea",
   "metadata": {},
   "outputs": [
    {
     "name": "stdout",
     "output_type": "stream",
     "text": [
      "+-------+----+----------+------+\n",
      "|   Name| Age|Experience|Salary|\n",
      "+-------+----+----------+------+\n",
      "|  Alice|  25|         2| 40000|\n",
      "|    Bob|  30|         5| 50000|\n",
      "|Charlie|  28|         4|  NULL|\n",
      "|  David|NULL|         3| 45000|\n",
      "|    Eva|  35|      NULL| 60000|\n",
      "|  Frank|  29|         6| 55000|\n",
      "|  Grace|NULL|      NULL| 42000|\n",
      "|   Hank|  40|        10| 80000|\n",
      "|    Ivy|  22|         1|  NULL|\n",
      "|   Jack|  33|         8| 75000|\n",
      "|  Karen|  27|      NULL|  NULL|\n",
      "|    Leo|  31|         7| 67000|\n",
      "|   Mona|  26|         3| 48000|\n",
      "|   Nina|  24|         2| 41000|\n",
      "|  Oscar|NULL|         4| 52000|\n",
      "|   Paul|  38|         9| 79000|\n",
      "|  Quinn|  21|      NULL| 39000|\n",
      "|   Rose|  23|         1| 42000|\n",
      "|  Steve|  36|        11|  NULL|\n",
      "|   Tina|NULL|      NULL|  NULL|\n",
      "+-------+----+----------+------+\n",
      "\n",
      "Threshhold value: 0,Row count: 20 because there are 20 rows with atleast 0 Non-Null values.\n",
      "Threshhold value: 1,Row count: 20 because there are 20 rows with atleast 1 Non-Null values.\n",
      "Threshhold value: 2,Row count: 19 because there are 19 rows with atleast 2 Non-Null values.\n",
      "Threshhold value: 3,Row count: 17 because there are 17 rows with atleast 3 Non-Null values.\n"
     ]
    }
   ],
   "source": [
    "df.na.drop(thresh=0).show()\n",
    "print(\"Threshhold value: 0,Row count:\",df.na.drop(thresh=0).count(),\"because there are\",df.na.drop(thresh=0).count(),\"rows with atleast 0 Non-Null values.\")\n",
    "print(\"Threshhold value: 1,Row count:\",df.na.drop(thresh=1).count(),\"because there are\",df.na.drop(thresh=1).count(),\"rows with atleast 1 Non-Null values.\")\n",
    "print(\"Threshhold value: 2,Row count:\",df.na.drop(thresh=2).count(),\"because there are\",df.na.drop(thresh=2).count(),\"rows with atleast 2 Non-Null values.\")\n",
    "print(\"Threshhold value: 3,Row count:\",df.na.drop(thresh=3).count(),\"because there are\",df.na.drop(thresh=3).count(),\"rows with atleast 3 Non-Null values.\")"
   ]
  },
  {
   "cell_type": "markdown",
   "id": "c5fe77d7",
   "metadata": {},
   "source": [
    "Subset : it'll remove rows if there are any null values in provided columns in subset."
   ]
  },
  {
   "cell_type": "code",
   "execution_count": 56,
   "id": "27fc2b18",
   "metadata": {},
   "outputs": [
    {
     "name": "stdout",
     "output_type": "stream",
     "text": [
      "+-----+---+----------+------+\n",
      "| Name|Age|Experience|Salary|\n",
      "+-----+---+----------+------+\n",
      "|Alice| 25|         2| 40000|\n",
      "|  Bob| 30|         5| 50000|\n",
      "|  Eva| 35|      NULL| 60000|\n",
      "|Frank| 29|         6| 55000|\n",
      "| Hank| 40|        10| 80000|\n",
      "| Jack| 33|         8| 75000|\n",
      "|  Leo| 31|         7| 67000|\n",
      "| Mona| 26|         3| 48000|\n",
      "| Nina| 24|         2| 41000|\n",
      "| Paul| 38|         9| 79000|\n",
      "|Quinn| 21|      NULL| 39000|\n",
      "| Rose| 23|         1| 42000|\n",
      "+-----+---+----------+------+\n",
      "\n"
     ]
    }
   ],
   "source": [
    "df.na.drop(subset=[\"age\",\"salary\"]).show()"
   ]
  },
  {
   "cell_type": "markdown",
   "id": "ec99baae",
   "metadata": {},
   "source": [
    "Filling the null values:"
   ]
  },
  {
   "cell_type": "code",
   "execution_count": 57,
   "id": "0cc7bedf",
   "metadata": {},
   "outputs": [
    {
     "name": "stdout",
     "output_type": "stream",
     "text": [
      "+-------+----+----------+------+\n",
      "|   Name| Age|Experience|Salary|\n",
      "+-------+----+----------+------+\n",
      "|  Alice|  25|         2| 40000|\n",
      "|    Bob|  30|         5| 50000|\n",
      "|Charlie|  28|         4|  2000|\n",
      "|  David|NULL|         3| 45000|\n",
      "|    Eva|  35|         0| 60000|\n",
      "|  Frank|  29|         6| 55000|\n",
      "|  Grace|NULL|         0| 42000|\n",
      "|   Hank|  40|        10| 80000|\n",
      "|    Ivy|  22|         1|  2000|\n",
      "|   Jack|  33|         8| 75000|\n",
      "|  Karen|  27|         0|  2000|\n",
      "|    Leo|  31|         7| 67000|\n",
      "|   Mona|  26|         3| 48000|\n",
      "|   Nina|  24|         2| 41000|\n",
      "|  Oscar|NULL|         4| 52000|\n",
      "|   Paul|  38|         9| 79000|\n",
      "|  Quinn|  21|         0| 39000|\n",
      "|   Rose|  23|         1| 42000|\n",
      "|  Steve|  36|        11|  2000|\n",
      "|   Tina|NULL|         0|  2000|\n",
      "+-------+----+----------+------+\n",
      "\n"
     ]
    }
   ],
   "source": [
    "df.na.fill({\"Experience\": 0, \"Salary\": 2000}).show()\n"
   ]
  },
  {
   "cell_type": "markdown",
   "id": "e5922177",
   "metadata": {},
   "source": [
    "Filling Values using **Imputer**"
   ]
  },
  {
   "cell_type": "code",
   "execution_count": 58,
   "id": "5d825856",
   "metadata": {},
   "outputs": [],
   "source": [
    "from pyspark.ml.feature import Imputer\n",
    "imputer_mean = Imputer(\n",
    "    inputCols=[\"Age\",\"Experience\"],\n",
    "    outputCols=[\"Age_Imputed\",\"Ex_Imput\"]\n",
    ").setStrategy(\"mean\")"
   ]
  },
  {
   "cell_type": "markdown",
   "id": "779dc147",
   "metadata": {},
   "source": [
    "Using Mean"
   ]
  },
  {
   "cell_type": "code",
   "execution_count": 59,
   "id": "ac757a57",
   "metadata": {},
   "outputs": [
    {
     "name": "stdout",
     "output_type": "stream",
     "text": [
      "+-------+----+----------+------+-----------+--------+\n",
      "|   Name| Age|Experience|Salary|Age_Imputed|Ex_Imput|\n",
      "+-------+----+----------+------+-----------+--------+\n",
      "|  Alice|  25|         2| 40000|         25|       2|\n",
      "|    Bob|  30|         5| 50000|         30|       5|\n",
      "|Charlie|  28|         4|  NULL|         28|       4|\n",
      "|  David|NULL|         3| 45000|         29|       3|\n",
      "|    Eva|  35|      NULL| 60000|         35|       5|\n",
      "|  Frank|  29|         6| 55000|         29|       6|\n",
      "|  Grace|NULL|      NULL| 42000|         29|       5|\n",
      "|   Hank|  40|        10| 80000|         40|      10|\n",
      "|    Ivy|  22|         1|  NULL|         22|       1|\n",
      "|   Jack|  33|         8| 75000|         33|       8|\n",
      "|  Karen|  27|      NULL|  NULL|         27|       5|\n",
      "|    Leo|  31|         7| 67000|         31|       7|\n",
      "|   Mona|  26|         3| 48000|         26|       3|\n",
      "|   Nina|  24|         2| 41000|         24|       2|\n",
      "|  Oscar|NULL|         4| 52000|         29|       4|\n",
      "|   Paul|  38|         9| 79000|         38|       9|\n",
      "|  Quinn|  21|      NULL| 39000|         21|       5|\n",
      "|   Rose|  23|         1| 42000|         23|       1|\n",
      "|  Steve|  36|        11|  NULL|         36|      11|\n",
      "|   Tina|NULL|      NULL|  NULL|         29|       5|\n",
      "+-------+----+----------+------+-----------+--------+\n",
      "\n"
     ]
    }
   ],
   "source": [
    "imputer_mean.fit(df).transform(df).show()"
   ]
  },
  {
   "cell_type": "markdown",
   "id": "72ca9f79",
   "metadata": {},
   "source": [
    "Using Mode"
   ]
  },
  {
   "cell_type": "code",
   "execution_count": 60,
   "id": "08b2a6d8",
   "metadata": {},
   "outputs": [
    {
     "name": "stdout",
     "output_type": "stream",
     "text": [
      "+-------+----+----------+------+-----------+--------+\n",
      "|   Name| Age|Experience|Salary|Age_Imputed|Ex_Imput|\n",
      "+-------+----+----------+------+-----------+--------+\n",
      "|  Alice|  25|         2| 40000|         25|       2|\n",
      "|    Bob|  30|         5| 50000|         30|       5|\n",
      "|Charlie|  28|         4|  NULL|         28|       4|\n",
      "|  David|NULL|         3| 45000|         21|       3|\n",
      "|    Eva|  35|      NULL| 60000|         35|       1|\n",
      "|  Frank|  29|         6| 55000|         29|       6|\n",
      "|  Grace|NULL|      NULL| 42000|         21|       1|\n",
      "|   Hank|  40|        10| 80000|         40|      10|\n",
      "|    Ivy|  22|         1|  NULL|         22|       1|\n",
      "|   Jack|  33|         8| 75000|         33|       8|\n",
      "|  Karen|  27|      NULL|  NULL|         27|       1|\n",
      "|    Leo|  31|         7| 67000|         31|       7|\n",
      "|   Mona|  26|         3| 48000|         26|       3|\n",
      "|   Nina|  24|         2| 41000|         24|       2|\n",
      "|  Oscar|NULL|         4| 52000|         21|       4|\n",
      "|   Paul|  38|         9| 79000|         38|       9|\n",
      "|  Quinn|  21|      NULL| 39000|         21|       1|\n",
      "|   Rose|  23|         1| 42000|         23|       1|\n",
      "|  Steve|  36|        11|  NULL|         36|      11|\n",
      "|   Tina|NULL|      NULL|  NULL|         21|       1|\n",
      "+-------+----+----------+------+-----------+--------+\n",
      "\n"
     ]
    }
   ],
   "source": [
    "imputer_mode = Imputer(\n",
    "    inputCols=[\"Age\",\"Experience\"],\n",
    "    outputCols=[\"Age_Imputed\",\"Ex_Imput\"]\n",
    ").setStrategy(\"mode\")\n",
    "\n",
    "imputer_mode.fit(df).transform(df).show()"
   ]
  },
  {
   "cell_type": "markdown",
   "id": "ef26edcb",
   "metadata": {},
   "source": [
    "Using Median"
   ]
  },
  {
   "cell_type": "code",
   "execution_count": 61,
   "id": "0c3987c6",
   "metadata": {},
   "outputs": [
    {
     "name": "stdout",
     "output_type": "stream",
     "text": [
      "+-------+----+----------+------+-----------+--------+\n",
      "|   Name| Age|Experience|Salary|Age_Imputed|Ex_Imput|\n",
      "+-------+----+----------+------+-----------+--------+\n",
      "|  Alice|  25|         2| 40000|         25|       2|\n",
      "|    Bob|  30|         5| 50000|         30|       5|\n",
      "|Charlie|  28|         4|  NULL|         28|       4|\n",
      "|  David|NULL|         3| 45000|         28|       3|\n",
      "|    Eva|  35|      NULL| 60000|         35|       4|\n",
      "|  Frank|  29|         6| 55000|         29|       6|\n",
      "|  Grace|NULL|      NULL| 42000|         28|       4|\n",
      "|   Hank|  40|        10| 80000|         40|      10|\n",
      "|    Ivy|  22|         1|  NULL|         22|       1|\n",
      "|   Jack|  33|         8| 75000|         33|       8|\n",
      "|  Karen|  27|      NULL|  NULL|         27|       4|\n",
      "|    Leo|  31|         7| 67000|         31|       7|\n",
      "|   Mona|  26|         3| 48000|         26|       3|\n",
      "|   Nina|  24|         2| 41000|         24|       2|\n",
      "|  Oscar|NULL|         4| 52000|         28|       4|\n",
      "|   Paul|  38|         9| 79000|         38|       9|\n",
      "|  Quinn|  21|      NULL| 39000|         21|       4|\n",
      "|   Rose|  23|         1| 42000|         23|       1|\n",
      "|  Steve|  36|        11|  NULL|         36|      11|\n",
      "|   Tina|NULL|      NULL|  NULL|         28|       4|\n",
      "+-------+----+----------+------+-----------+--------+\n",
      "\n"
     ]
    }
   ],
   "source": [
    "imputer_median = Imputer(\n",
    "    inputCols=[\"Age\",\"Experience\"],\n",
    "    outputCols=[\"Age_Imputed\",\"Ex_Imput\"]\n",
    ").setStrategy(\"median\")\n",
    "\n",
    "imputer_median.fit(df).transform(df).show()"
   ]
  },
  {
   "cell_type": "code",
   "execution_count": 62,
   "id": "07ef3beb",
   "metadata": {},
   "outputs": [],
   "source": [
    "spark.stop()"
   ]
  }
 ],
 "metadata": {
  "kernelspec": {
   "display_name": "tf-env",
   "language": "python",
   "name": "python3"
  },
  "language_info": {
   "codemirror_mode": {
    "name": "ipython",
    "version": 3
   },
   "file_extension": ".py",
   "mimetype": "text/x-python",
   "name": "python",
   "nbconvert_exporter": "python",
   "pygments_lexer": "ipython3",
   "version": "3.10.16"
  }
 },
 "nbformat": 4,
 "nbformat_minor": 5
}
