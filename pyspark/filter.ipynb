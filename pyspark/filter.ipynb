{
 "cells": [
  {
   "cell_type": "markdown",
   "id": "5d0788db",
   "metadata": {},
   "source": [
    "Initializing PySpark session and reading data"
   ]
  },
  {
   "cell_type": "code",
   "execution_count": 1,
   "id": "1a798544",
   "metadata": {},
   "outputs": [],
   "source": [
    "import pyspark"
   ]
  },
  {
   "cell_type": "code",
   "execution_count": 2,
   "id": "a3014c91",
   "metadata": {},
   "outputs": [],
   "source": [
    "from pyspark.sql import SparkSession\n",
    "spark = SparkSession.builder.appName(\"Filter\").getOrCreate()"
   ]
  },
  {
   "cell_type": "code",
   "execution_count": 3,
   "id": "98781c8c",
   "metadata": {},
   "outputs": [
    {
     "data": {
      "text/html": [
       "\n",
       "            <div>\n",
       "                <p><b>SparkSession - in-memory</b></p>\n",
       "                \n",
       "        <div>\n",
       "            <p><b>SparkContext</b></p>\n",
       "\n",
       "            <p><a href=\"http://BlackPanther:4040\">Spark UI</a></p>\n",
       "\n",
       "            <dl>\n",
       "              <dt>Version</dt>\n",
       "                <dd><code>v4.0.0</code></dd>\n",
       "              <dt>Master</dt>\n",
       "                <dd><code>local[*]</code></dd>\n",
       "              <dt>AppName</dt>\n",
       "                <dd><code>Filter</code></dd>\n",
       "            </dl>\n",
       "        </div>\n",
       "        \n",
       "            </div>\n",
       "        "
      ],
      "text/plain": [
       "<pyspark.sql.session.SparkSession at 0x1fbb545cd60>"
      ]
     },
     "execution_count": 3,
     "metadata": {},
     "output_type": "execute_result"
    }
   ],
   "source": [
    "spark"
   ]
  },
  {
   "cell_type": "code",
   "execution_count": 4,
   "id": "39b51f7e",
   "metadata": {},
   "outputs": [
    {
     "name": "stdout",
     "output_type": "stream",
     "text": [
      "+-------+----+----------+------+\n",
      "|   Name| Age|Experience|Salary|\n",
      "+-------+----+----------+------+\n",
      "|  Alice|  25|         2| 40000|\n",
      "|    Bob|  30|         5| 50000|\n",
      "|Charlie|  28|         4|  NULL|\n",
      "|  David|NULL|         3| 45000|\n",
      "|    Eva|  35|      NULL| 60000|\n",
      "|  Frank|  29|         6| 55000|\n",
      "|  Grace|NULL|      NULL| 42000|\n",
      "|   Hank|  40|        10| 80000|\n",
      "|    Ivy|  22|         1|  NULL|\n",
      "|   Jack|  33|         8| 75000|\n",
      "|  Karen|  27|      NULL|  NULL|\n",
      "|    Leo|  31|         7| 67000|\n",
      "|   Mona|  26|         3| 48000|\n",
      "|   Nina|  24|         2| 41000|\n",
      "|  Oscar|NULL|         4| 52000|\n",
      "|   Paul|  38|         9| 79000|\n",
      "|  Quinn|  21|      NULL| 39000|\n",
      "|   Rose|  23|         1| 42000|\n",
      "|  Steve|  36|        11|  NULL|\n",
      "|   Tina|NULL|      NULL|  NULL|\n",
      "+-------+----+----------+------+\n",
      "\n"
     ]
    }
   ],
   "source": [
    "df = spark.read.csv(\"../data/test2.csv\",header=True,inferSchema=True)\n",
    "df.show()"
   ]
  },
  {
   "cell_type": "markdown",
   "id": "bf987f18",
   "metadata": {},
   "source": [
    "starting with simple method"
   ]
  },
  {
   "cell_type": "code",
   "execution_count": 5,
   "id": "fdb7be2e",
   "metadata": {},
   "outputs": [
    {
     "name": "stdout",
     "output_type": "stream",
     "text": [
      "+-----+----+----------+------+\n",
      "| Name| Age|Experience|Salary|\n",
      "+-----+----+----------+------+\n",
      "|  Bob|  30|         5| 50000|\n",
      "|  Eva|  35|      NULL| 60000|\n",
      "|Frank|  29|         6| 55000|\n",
      "| Hank|  40|        10| 80000|\n",
      "| Jack|  33|         8| 75000|\n",
      "|  Leo|  31|         7| 67000|\n",
      "|Oscar|NULL|         4| 52000|\n",
      "| Paul|  38|         9| 79000|\n",
      "+-----+----+----------+------+\n",
      "\n"
     ]
    }
   ],
   "source": [
    "df.filter(\"Salary>=50000\").show()"
   ]
  },
  {
   "cell_type": "markdown",
   "id": "465e5adf",
   "metadata": {},
   "source": [
    "Using AND"
   ]
  },
  {
   "cell_type": "code",
   "execution_count": 7,
   "id": "5c776721",
   "metadata": {},
   "outputs": [
    {
     "name": "stdout",
     "output_type": "stream",
     "text": [
      "+-----+----+----------+------+\n",
      "| Name| Age|Experience|Salary|\n",
      "+-----+----+----------+------+\n",
      "|Alice|  25|         2| 40000|\n",
      "|  Bob|  30|         5| 50000|\n",
      "|David|NULL|         3| 45000|\n",
      "| Mona|  26|         3| 48000|\n",
      "| Nina|  24|         2| 41000|\n",
      "| Rose|  23|         1| 42000|\n",
      "+-----+----+----------+------+\n",
      "\n"
     ]
    }
   ],
   "source": [
    "df.filter((df[\"Salary\"]<=50000)&(df[\"Experience\"]<=5)).show()"
   ]
  },
  {
   "cell_type": "markdown",
   "id": "095d0d68",
   "metadata": {},
   "source": [
    "Using OR and select few columns"
   ]
  },
  {
   "cell_type": "code",
   "execution_count": 11,
   "id": "54fda5cf",
   "metadata": {},
   "outputs": [
    {
     "name": "stdout",
     "output_type": "stream",
     "text": [
      "+-------+----+\n",
      "|   Name| Age|\n",
      "+-------+----+\n",
      "|  Alice|  25|\n",
      "|    Bob|  30|\n",
      "|Charlie|  28|\n",
      "|  David|NULL|\n",
      "|  Grace|NULL|\n",
      "|    Ivy|  22|\n",
      "|   Mona|  26|\n",
      "|   Nina|  24|\n",
      "|  Oscar|NULL|\n",
      "|  Quinn|  21|\n",
      "|   Rose|  23|\n",
      "+-------+----+\n",
      "\n"
     ]
    }
   ],
   "source": [
    "df.filter((df[\"Salary\"]<=50000)|(df[\"Experience\"]<=5)).select([\"Name\",\"Age\"]).show()"
   ]
  },
  {
   "cell_type": "markdown",
   "id": "6814f088",
   "metadata": {},
   "source": [
    "Using NOT ~"
   ]
  },
  {
   "cell_type": "code",
   "execution_count": 14,
   "id": "bee43e07",
   "metadata": {},
   "outputs": [
    {
     "name": "stdout",
     "output_type": "stream",
     "text": [
      "+-----+---+----------+------+\n",
      "| Name|Age|Experience|Salary|\n",
      "+-----+---+----------+------+\n",
      "|Frank| 29|         6| 55000|\n",
      "| Hank| 40|        10| 80000|\n",
      "| Jack| 33|         8| 75000|\n",
      "|  Leo| 31|         7| 67000|\n",
      "| Paul| 38|         9| 79000|\n",
      "+-----+---+----------+------+\n",
      "\n"
     ]
    }
   ],
   "source": [
    "df.filter(~((df[\"Salary\"]<=50000)|(df[\"Experience\"]<=5))).show()"
   ]
  },
  {
   "cell_type": "code",
   "execution_count": 15,
   "id": "a316a72c",
   "metadata": {},
   "outputs": [],
   "source": [
    "spark.stop()"
   ]
  }
 ],
 "metadata": {
  "kernelspec": {
   "display_name": "tf-env",
   "language": "python",
   "name": "python3"
  },
  "language_info": {
   "codemirror_mode": {
    "name": "ipython",
    "version": 3
   },
   "file_extension": ".py",
   "mimetype": "text/x-python",
   "name": "python",
   "nbconvert_exporter": "python",
   "pygments_lexer": "ipython3",
   "version": "3.10.16"
  }
 },
 "nbformat": 4,
 "nbformat_minor": 5
}
