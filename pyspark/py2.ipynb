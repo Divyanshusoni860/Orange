{
 "cells": [
  {
   "cell_type": "markdown",
   "id": "2708e6b5",
   "metadata": {},
   "source": [
    "Importing PySpark"
   ]
  },
  {
   "cell_type": "code",
   "execution_count": 1,
   "id": "5d28e572",
   "metadata": {},
   "outputs": [],
   "source": [
    "import pyspark"
   ]
  },
  {
   "cell_type": "markdown",
   "id": "92341d9e",
   "metadata": {},
   "source": [
    "Initializing Session"
   ]
  },
  {
   "cell_type": "code",
   "execution_count": 6,
   "id": "5d2b7903",
   "metadata": {},
   "outputs": [],
   "source": [
    "from pyspark.sql import SparkSession\n",
    "spark = SparkSession.builder.appName(\"Dataframe\").getOrCreate()"
   ]
  },
  {
   "cell_type": "code",
   "execution_count": 7,
   "id": "b73b2eca",
   "metadata": {},
   "outputs": [
    {
     "data": {
      "text/html": [
       "\n",
       "            <div>\n",
       "                <p><b>SparkSession - in-memory</b></p>\n",
       "                \n",
       "        <div>\n",
       "            <p><b>SparkContext</b></p>\n",
       "\n",
       "            <p><a href=\"http://BlackPanther:4040\">Spark UI</a></p>\n",
       "\n",
       "            <dl>\n",
       "              <dt>Version</dt>\n",
       "                <dd><code>v4.0.0</code></dd>\n",
       "              <dt>Master</dt>\n",
       "                <dd><code>local[*]</code></dd>\n",
       "              <dt>AppName</dt>\n",
       "                <dd><code>Dataframe</code></dd>\n",
       "            </dl>\n",
       "        </div>\n",
       "        \n",
       "            </div>\n",
       "        "
      ],
      "text/plain": [
       "<pyspark.sql.session.SparkSession at 0x1d0270e9de0>"
      ]
     },
     "execution_count": 7,
     "metadata": {},
     "output_type": "execute_result"
    }
   ],
   "source": [
    "spark"
   ]
  },
  {
   "cell_type": "markdown",
   "id": "76390941",
   "metadata": {},
   "source": [
    "Loading Data"
   ]
  },
  {
   "cell_type": "code",
   "execution_count": 61,
   "id": "57c62aea",
   "metadata": {},
   "outputs": [],
   "source": [
    "df=spark.read.option(\"header\",\"true\").csv(\"../data/test1.csv\",inferSchema=True)"
   ]
  },
  {
   "cell_type": "markdown",
   "id": "1ac6a671",
   "metadata": {},
   "source": [
    "about Data"
   ]
  },
  {
   "cell_type": "code",
   "execution_count": 62,
   "id": "26c707b5",
   "metadata": {},
   "outputs": [
    {
     "name": "stdout",
     "output_type": "stream",
     "text": [
      "root\n",
      " |-- Name: string (nullable = true)\n",
      " |-- Age: integer (nullable = true)\n",
      " |-- Experience: integer (nullable = true)\n",
      "\n"
     ]
    }
   ],
   "source": [
    "df.printSchema()"
   ]
  },
  {
   "cell_type": "code",
   "execution_count": 63,
   "id": "4b7190f8",
   "metadata": {},
   "outputs": [
    {
     "data": {
      "text/plain": [
       "['Name', 'Age', 'Experience']"
      ]
     },
     "execution_count": 63,
     "metadata": {},
     "output_type": "execute_result"
    }
   ],
   "source": [
    "df.columns"
   ]
  },
  {
   "cell_type": "code",
   "execution_count": 64,
   "id": "b4c49463",
   "metadata": {},
   "outputs": [
    {
     "data": {
      "text/plain": [
       "[Row(Name='Priyanshu Joshi', Age=45, Experience=15),\n",
       " Row(Name='Ayush Nagar', Age=30, Experience=5),\n",
       " Row(Name='Harsh Kumar Shakya', Age=28, Experience=11)]"
      ]
     },
     "execution_count": 64,
     "metadata": {},
     "output_type": "execute_result"
    }
   ],
   "source": [
    "df.head(3)"
   ]
  },
  {
   "cell_type": "code",
   "execution_count": 65,
   "id": "bbf58b6c",
   "metadata": {},
   "outputs": [
    {
     "name": "stdout",
     "output_type": "stream",
     "text": [
      "+-------------------+---+----------+\n",
      "|               Name|Age|Experience|\n",
      "+-------------------+---+----------+\n",
      "|    Priyanshu Joshi| 45|        15|\n",
      "|        Ayush Nagar| 30|         5|\n",
      "| Harsh Kumar Shakya| 28|        11|\n",
      "|    Krishna Agrawal| 32|         2|\n",
      "|Asmit Singh Mandoor| 42|        16|\n",
      "+-------------------+---+----------+\n",
      "\n"
     ]
    }
   ],
   "source": [
    "df.show()"
   ]
  },
  {
   "cell_type": "code",
   "execution_count": 66,
   "id": "265029b4",
   "metadata": {},
   "outputs": [
    {
     "name": "stdout",
     "output_type": "stream",
     "text": [
      "+-------------------+\n",
      "|               Name|\n",
      "+-------------------+\n",
      "|    Priyanshu Joshi|\n",
      "|        Ayush Nagar|\n",
      "| Harsh Kumar Shakya|\n",
      "|    Krishna Agrawal|\n",
      "|Asmit Singh Mandoor|\n",
      "+-------------------+\n",
      "\n"
     ]
    }
   ],
   "source": [
    "df.select(\"Name\").show()"
   ]
  },
  {
   "cell_type": "code",
   "execution_count": 67,
   "id": "4997442c",
   "metadata": {},
   "outputs": [
    {
     "name": "stdout",
     "output_type": "stream",
     "text": [
      "+---+----------+\n",
      "|Age|Experience|\n",
      "+---+----------+\n",
      "| 45|        15|\n",
      "| 30|         5|\n",
      "| 28|        11|\n",
      "| 32|         2|\n",
      "| 42|        16|\n",
      "+---+----------+\n",
      "\n"
     ]
    }
   ],
   "source": [
    "df.select([\"Age\",\"Experience\"]).show()"
   ]
  },
  {
   "cell_type": "code",
   "execution_count": 68,
   "id": "7a19a5ca",
   "metadata": {},
   "outputs": [
    {
     "data": {
      "text/plain": [
       "[('Name', 'string'), ('Age', 'int'), ('Experience', 'int')]"
      ]
     },
     "execution_count": 68,
     "metadata": {},
     "output_type": "execute_result"
    }
   ],
   "source": [
    "df.dtypes"
   ]
  },
  {
   "cell_type": "code",
   "execution_count": 69,
   "id": "a5068dd4",
   "metadata": {},
   "outputs": [
    {
     "name": "stdout",
     "output_type": "stream",
     "text": [
      "+-------+-------------------+-----------------+---------------+\n",
      "|summary|               Name|              Age|     Experience|\n",
      "+-------+-------------------+-----------------+---------------+\n",
      "|  count|                  5|                5|              5|\n",
      "|   mean|               NULL|             35.4|            9.8|\n",
      "| stddev|               NULL|7.602631123499285|6.1400325732035|\n",
      "|    min|Asmit Singh Mandoor|               28|              2|\n",
      "|    max|    Priyanshu Joshi|               45|             16|\n",
      "+-------+-------------------+-----------------+---------------+\n",
      "\n"
     ]
    }
   ],
   "source": [
    "df.describe().show()"
   ]
  },
  {
   "cell_type": "markdown",
   "id": "7f7bc7fa",
   "metadata": {},
   "source": [
    "Adding Column"
   ]
  },
  {
   "cell_type": "code",
   "execution_count": 72,
   "id": "d601e961",
   "metadata": {},
   "outputs": [
    {
     "name": "stdout",
     "output_type": "stream",
     "text": [
      "+-------------------+---+----------+------------------+\n",
      "|               Name|Age|Experience|Starting of Career|\n",
      "+-------------------+---+----------+------------------+\n",
      "|    Priyanshu Joshi| 45|        15|                30|\n",
      "|        Ayush Nagar| 30|         5|                25|\n",
      "| Harsh Kumar Shakya| 28|        11|                17|\n",
      "|    Krishna Agrawal| 32|         2|                30|\n",
      "|Asmit Singh Mandoor| 42|        16|                26|\n",
      "+-------------------+---+----------+------------------+\n",
      "\n"
     ]
    }
   ],
   "source": [
    "df=df.withColumn(\"Starting of Career\",df[\"Age\"]-df[\"Experience\"])\n",
    "df.show()"
   ]
  },
  {
   "cell_type": "code",
   "execution_count": 73,
   "id": "a3e061ff",
   "metadata": {},
   "outputs": [
    {
     "name": "stdout",
     "output_type": "stream",
     "text": [
      "+-------------------+---+----------+------------------+----+\n",
      "|               Name|Age|Experience|Starting of Career|Null|\n",
      "+-------------------+---+----------+------------------+----+\n",
      "|    Priyanshu Joshi| 45|        15|                30|NULL|\n",
      "|        Ayush Nagar| 30|         5|                25|NULL|\n",
      "| Harsh Kumar Shakya| 28|        11|                17|NULL|\n",
      "|    Krishna Agrawal| 32|         2|                30|NULL|\n",
      "|Asmit Singh Mandoor| 42|        16|                26|NULL|\n",
      "+-------------------+---+----------+------------------+----+\n",
      "\n"
     ]
    }
   ],
   "source": [
    "from pyspark.sql.functions import lit\n",
    "\n",
    "df=df.withColumn(\"Null\", lit(None))\n",
    "df.show()"
   ]
  },
  {
   "cell_type": "markdown",
   "id": "b26293e5",
   "metadata": {},
   "source": [
    "New info: Df of pyspark unlike pandas are immutable"
   ]
  },
  {
   "cell_type": "code",
   "execution_count": 74,
   "id": "8830e260",
   "metadata": {},
   "outputs": [
    {
     "name": "stdout",
     "output_type": "stream",
     "text": [
      "root\n",
      " |-- Name: string (nullable = true)\n",
      " |-- Age: integer (nullable = true)\n",
      " |-- Experience: integer (nullable = true)\n",
      " |-- Starting of Career: integer (nullable = true)\n",
      " |-- Null: void (nullable = true)\n",
      "\n"
     ]
    }
   ],
   "source": [
    "df.printSchema()"
   ]
  },
  {
   "cell_type": "code",
   "execution_count": 75,
   "id": "188df399",
   "metadata": {},
   "outputs": [
    {
     "name": "stdout",
     "output_type": "stream",
     "text": [
      "+-------------------+---+----------+------------------+--------------+\n",
      "|               Name|Age|Experience|Starting of Career|Literally Null|\n",
      "+-------------------+---+----------+------------------+--------------+\n",
      "|    Priyanshu Joshi| 45|        15|                30|          NULL|\n",
      "|        Ayush Nagar| 30|         5|                25|          NULL|\n",
      "| Harsh Kumar Shakya| 28|        11|                17|          NULL|\n",
      "|    Krishna Agrawal| 32|         2|                30|          NULL|\n",
      "|Asmit Singh Mandoor| 42|        16|                26|          NULL|\n",
      "+-------------------+---+----------+------------------+--------------+\n",
      "\n"
     ]
    }
   ],
   "source": [
    "df=df.withColumnRenamed(\"Null\",\"Literally Null\")\n",
    "df.show()"
   ]
  },
  {
   "cell_type": "code",
   "execution_count": 82,
   "id": "2328d7c0",
   "metadata": {},
   "outputs": [
    {
     "name": "stdout",
     "output_type": "stream",
     "text": [
      "+-------------------+---+----------+------------------+\n",
      "|               Name|Age|Experience|Starting of Career|\n",
      "+-------------------+---+----------+------------------+\n",
      "|    Priyanshu Joshi| 45|        15|                30|\n",
      "|        Ayush Nagar| 30|         5|                25|\n",
      "| Harsh Kumar Shakya| 28|        11|                17|\n",
      "|    Krishna Agrawal| 32|         2|                30|\n",
      "|Asmit Singh Mandoor| 42|        16|                26|\n",
      "+-------------------+---+----------+------------------+\n",
      "\n"
     ]
    }
   ],
   "source": [
    "df=df.drop(\"Literally Null\")\n",
    "df.show()"
   ]
  },
  {
   "cell_type": "code",
   "execution_count": 83,
   "id": "232cf073",
   "metadata": {},
   "outputs": [],
   "source": [
    "spark.stop()"
   ]
  }
 ],
 "metadata": {
  "kernelspec": {
   "display_name": "tf-env",
   "language": "python",
   "name": "python3"
  },
  "language_info": {
   "codemirror_mode": {
    "name": "ipython",
    "version": 3
   },
   "file_extension": ".py",
   "mimetype": "text/x-python",
   "name": "python",
   "nbconvert_exporter": "python",
   "pygments_lexer": "ipython3",
   "version": "3.10.16"
  }
 },
 "nbformat": 4,
 "nbformat_minor": 5
}
